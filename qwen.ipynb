{
 "cells": [
  {
   "cell_type": "code",
   "execution_count": 1,
   "id": "c9f62bd1",
   "metadata": {},
   "outputs": [],
   "source": [
    "import requests\n",
    "import json\n",
    "import shutil\n",
    "from pydantic import BaseModel, Field\n",
    "from typing import Literal, Optional"
   ]
  },
  {
   "cell_type": "code",
   "execution_count": 2,
   "id": "6b39b1e8-e3b6-44a4-9462-7cf2dc9f8cb1",
   "metadata": {},
   "outputs": [],
   "source": [
    "\n",
    "\n",
    "class SpamDetectorSmart(BaseModel):\n",
    "    chain_of_thought: Optional[str] = Field(None, description=\"Presenting a consequent way of reasoning to decide about the text\")\n",
    "    label: Literal[\"spam\", \"not_spam\"]\n",
    "\n",
    "def display_response(response: requests.Response, terminal_width: int = None):\n",
    "    \"\"\"\n",
    "    Function to handle the streaming of intermediate response pieces and display final results.\n",
    "    \"\"\"\n",
    "    if terminal_width is None:\n",
    "        terminal_width = shutil.get_terminal_size().columns\n",
    "\n",
    "    full_response = \"\"\n",
    "    current_line_length = 0  # Track current length of the output line\n",
    "\n",
    "    # Iterate over streamed lines\n",
    "    for line in response.iter_lines():\n",
    "        if line:\n",
    "            try:\n",
    "                line_data = json.loads(line.decode('utf-8'))  # Decode bytes to string and parse JSON\n",
    "                response_piece = line_data.get(\"response\", \"\")\n",
    "                full_response += response_piece  # Collect the full response\n",
    "\n",
    "                # Calculate the new length after appending this piece\n",
    "                new_length = current_line_length + len(response_piece) + 1  # Adding space between words\n",
    "\n",
    "                if new_length <= terminal_width:\n",
    "                    print(response_piece, end=\" \")  # Append on the same line with a space\n",
    "                    current_line_length = new_length  # Update the current line length\n",
    "                else:\n",
    "                    print()  # Move to the next line\n",
    "                    print(response_piece, end=\" \")  # Print on the new line\n",
    "                    current_line_length = len(response_piece)  # Reset the current length for the new line\n",
    "\n",
    "            except Exception as e:\n",
    "                print(f\"Failed to parse line: {line}, error: {e}\")\n",
    "\n",
    "    # After all parts are streamed, parse the final response\n",
    "    try:\n",
    "        # Handle cases where chain_of_thought is missing\n",
    "        final_response = json.loads(full_response)\n",
    "        label = final_response.get(\"label\")\n",
    "        chain_of_thought = final_response.get(\"chain_of_thought\", \"No chain of thought provided\")  # Default if missing\n",
    "\n",
    "        print(\"\\n\\nFinal classification result:\")\n",
    "        print(f\"Label: {label}\")\n",
    "        print(f\"Chain of Thought: {chain_of_thought}\")\n",
    "        \n",
    "        # Now parse the final response using Pydantic\n",
    "        model_response = SpamDetectorSmart(label=label, chain_of_thought=chain_of_thought)\n",
    "        print(\"Pydantic Model Output:\", model_response)\n",
    "\n",
    "    except Exception as e:\n",
    "        print(\"Failed to parse the reconstructed response:\", e)\n",
    "\n",
    "\n"
   ]
  },
  {
   "cell_type": "code",
   "execution_count": 3,
   "id": "35d2fa59",
   "metadata": {},
   "outputs": [
    {
     "name": "stdout",
     "output_type": "stream",
     "text": [
      "{\" label \":  \" spam \",  \" chain _of _th ought \":  \" The  message  is  trying \n",
      " ent ice  the  recipient  by  offering  a  prize  ( the  newest  Harry \n",
      " book )  in  exchange  for  rep lying  and  answering  questions .  Such \n",
      " often  have  promotional  elements  and  require  action  from  the \n",
      ",  which  are  typical  characteristics  of  spam .\" }  \n",
      "\n",
      "Final classification result:\n",
      "Label: spam\n",
      "Chain of Thought: The message is trying to entice the recipient by offering a prize (the newest Harry Potter book) in exchange for replying and answering questions. Such messages often have promotional elements and require action from the recipient, which are typical characteristics of spam.\n",
      "Pydantic Model Output: chain_of_thought='The message is trying to entice the recipient by offering a prize (the newest Harry Potter book) in exchange for replying and answering questions. Such messages often have promotional elements and require action from the recipient, which are typical characteristics of spam.' label='spam'\n"
     ]
    }
   ],
   "source": [
    "# Define the SMS to classify\n",
    "SMS = \"Win the newest Harry Potter and the Order of the Phoenix (Book 5) reply HARRY, answer 5 questions - chance to be the first among readers!\"\n",
    "\n",
    "# New API URL\n",
    "url = \"http://192.168.31.108:11434/api/generate\"\n",
    "\n",
    "# Payload for the request\n",
    "payload = {\n",
    "    \"model\": \"qwen2\",\n",
    "    \"prompt\": f\"Classify the following SMS as spam or not_spam. Provide reasoning for the classification.\\n\\n{SMS}\\n\\nResponse format: {{\\\"label\\\": \\\"spam\\\", \\\"chain_of_thought\\\": \\\"[reasoning here]\\\"}}\",\n",
    "    \"max_length\": 150,\n",
    "    \"temperature\": 0.0  # Low temperature for deterministic output\n",
    "}\n",
    "\n",
    "# Headers for the request (if needed)\n",
    "headers = {\n",
    "    \"Content-Type\": \"application/json\"\n",
    "}\n",
    "\n",
    "# Make the API call\n",
    "response = requests.post(url, json=payload, headers=headers, stream=True)\n",
    "\n",
    "# Check the response status and handle the streaming display\n",
    "if response.status_code == 200:\n",
    "    display_response(response)\n",
    "else:\n",
    "    print(f\"Error: {response.status_code} - {response.text}\")\n"
   ]
  },
  {
   "cell_type": "code",
   "execution_count": null,
   "id": "8796311b-979a-40c1-bc76-a1029635eb16",
   "metadata": {},
   "outputs": [],
   "source": []
  }
 ],
 "metadata": {
  "kernelspec": {
   "display_name": "Python 3 (ipykernel)",
   "language": "python",
   "name": "python3"
  },
  "language_info": {
   "codemirror_mode": {
    "name": "ipython",
    "version": 3
   },
   "file_extension": ".py",
   "mimetype": "text/x-python",
   "name": "python",
   "nbconvert_exporter": "python",
   "pygments_lexer": "ipython3",
   "version": "3.11.11"
  }
 },
 "nbformat": 4,
 "nbformat_minor": 5
}
